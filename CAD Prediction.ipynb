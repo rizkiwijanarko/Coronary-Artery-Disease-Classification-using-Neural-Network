{
 "cells": [
  {
   "cell_type": "code",
   "id": "initial_id",
   "metadata": {
    "collapsed": true,
    "ExecuteTime": {
     "end_time": "2024-05-29T11:49:49.239747Z",
     "start_time": "2024-05-29T11:49:49.232679Z"
    }
   },
   "source": [
    "# Import libraries\n",
    "import pandas as pd\n",
    "import numpy as np\n",
    "import tensorflow as tf\n",
    "import matplotlib.pyplot as plt\n",
    "import seaborn as sns\n",
    "from sklearn.model_selection import train_test_split\n",
    "from sklearn.preprocessing import StandardScaler\n",
    "from sklearn.preprocessing import LabelEncoder\n",
    "from sklearn.model_selection import StratifiedKFold\n",
    "from sklearn.model_selection import cross_validate\n",
    "\n",
    "from sklearn.metrics import accuracy_score, precision_score, recall_score, f1_score\n",
    "from sklearn.metrics import roc_auc_score, roc_curve\n",
    "from sklearn.metrics import confusion_matrix, ConfusionMatrixDisplay\n",
    "from sklearn.metrics import classification_report"
   ],
   "outputs": [],
   "execution_count": 276
  },
  {
   "metadata": {},
   "cell_type": "markdown",
   "source": "# Load the dataset",
   "id": "38e559b40e2048e8"
  },
  {
   "metadata": {
    "ExecuteTime": {
     "end_time": "2024-05-29T10:27:15.452443Z",
     "start_time": "2024-05-29T10:27:15.421838Z"
    }
   },
   "cell_type": "code",
   "source": [
    "cad_df = pd.read_csv('data/CAD.csv')\n",
    "cad_df.head()"
   ],
   "id": "eca0cfa746856a48",
   "outputs": [
    {
     "data": {
      "text/plain": [
       "   Age  Weight  Length    Sex        BMI  DM  HTN  Current Smoker  EX-Smoker  \\\n",
       "0   53      90     175   Male  29.387755   0    1               1          0   \n",
       "1   67      70     157  Fmale  28.398718   0    1               0          0   \n",
       "2   54      54     164   Male  20.077335   0    0               1          0   \n",
       "3   66      67     158  Fmale  26.838648   0    1               0          0   \n",
       "4   50      87     153  Fmale  37.165193   0    1               0          0   \n",
       "\n",
       "   FH  ...    K   Na    WBC Lymph Neut  PLT EF-TTE  Region RWMA     VHD  \\\n",
       "0   0  ...  4.7  141   5700    39   52  261     50            0       N   \n",
       "1   0  ...  4.7  156   7700    38   55  165     40            4       N   \n",
       "2   0  ...  4.7  139   7400    38   60  230     40            2    mild   \n",
       "3   0  ...  4.4  142  13000    18   72  742     55            0  Severe   \n",
       "4   0  ...  4.0  140   9200    55   39  274     50            0  Severe   \n",
       "\n",
       "     Cath  \n",
       "0     Cad  \n",
       "1     Cad  \n",
       "2     Cad  \n",
       "3  Normal  \n",
       "4  Normal  \n",
       "\n",
       "[5 rows x 55 columns]"
      ],
      "text/html": [
       "<div>\n",
       "<style scoped>\n",
       "    .dataframe tbody tr th:only-of-type {\n",
       "        vertical-align: middle;\n",
       "    }\n",
       "\n",
       "    .dataframe tbody tr th {\n",
       "        vertical-align: top;\n",
       "    }\n",
       "\n",
       "    .dataframe thead th {\n",
       "        text-align: right;\n",
       "    }\n",
       "</style>\n",
       "<table border=\"1\" class=\"dataframe\">\n",
       "  <thead>\n",
       "    <tr style=\"text-align: right;\">\n",
       "      <th></th>\n",
       "      <th>Age</th>\n",
       "      <th>Weight</th>\n",
       "      <th>Length</th>\n",
       "      <th>Sex</th>\n",
       "      <th>BMI</th>\n",
       "      <th>DM</th>\n",
       "      <th>HTN</th>\n",
       "      <th>Current Smoker</th>\n",
       "      <th>EX-Smoker</th>\n",
       "      <th>FH</th>\n",
       "      <th>...</th>\n",
       "      <th>K</th>\n",
       "      <th>Na</th>\n",
       "      <th>WBC</th>\n",
       "      <th>Lymph</th>\n",
       "      <th>Neut</th>\n",
       "      <th>PLT</th>\n",
       "      <th>EF-TTE</th>\n",
       "      <th>Region RWMA</th>\n",
       "      <th>VHD</th>\n",
       "      <th>Cath</th>\n",
       "    </tr>\n",
       "  </thead>\n",
       "  <tbody>\n",
       "    <tr>\n",
       "      <th>0</th>\n",
       "      <td>53</td>\n",
       "      <td>90</td>\n",
       "      <td>175</td>\n",
       "      <td>Male</td>\n",
       "      <td>29.387755</td>\n",
       "      <td>0</td>\n",
       "      <td>1</td>\n",
       "      <td>1</td>\n",
       "      <td>0</td>\n",
       "      <td>0</td>\n",
       "      <td>...</td>\n",
       "      <td>4.7</td>\n",
       "      <td>141</td>\n",
       "      <td>5700</td>\n",
       "      <td>39</td>\n",
       "      <td>52</td>\n",
       "      <td>261</td>\n",
       "      <td>50</td>\n",
       "      <td>0</td>\n",
       "      <td>N</td>\n",
       "      <td>Cad</td>\n",
       "    </tr>\n",
       "    <tr>\n",
       "      <th>1</th>\n",
       "      <td>67</td>\n",
       "      <td>70</td>\n",
       "      <td>157</td>\n",
       "      <td>Fmale</td>\n",
       "      <td>28.398718</td>\n",
       "      <td>0</td>\n",
       "      <td>1</td>\n",
       "      <td>0</td>\n",
       "      <td>0</td>\n",
       "      <td>0</td>\n",
       "      <td>...</td>\n",
       "      <td>4.7</td>\n",
       "      <td>156</td>\n",
       "      <td>7700</td>\n",
       "      <td>38</td>\n",
       "      <td>55</td>\n",
       "      <td>165</td>\n",
       "      <td>40</td>\n",
       "      <td>4</td>\n",
       "      <td>N</td>\n",
       "      <td>Cad</td>\n",
       "    </tr>\n",
       "    <tr>\n",
       "      <th>2</th>\n",
       "      <td>54</td>\n",
       "      <td>54</td>\n",
       "      <td>164</td>\n",
       "      <td>Male</td>\n",
       "      <td>20.077335</td>\n",
       "      <td>0</td>\n",
       "      <td>0</td>\n",
       "      <td>1</td>\n",
       "      <td>0</td>\n",
       "      <td>0</td>\n",
       "      <td>...</td>\n",
       "      <td>4.7</td>\n",
       "      <td>139</td>\n",
       "      <td>7400</td>\n",
       "      <td>38</td>\n",
       "      <td>60</td>\n",
       "      <td>230</td>\n",
       "      <td>40</td>\n",
       "      <td>2</td>\n",
       "      <td>mild</td>\n",
       "      <td>Cad</td>\n",
       "    </tr>\n",
       "    <tr>\n",
       "      <th>3</th>\n",
       "      <td>66</td>\n",
       "      <td>67</td>\n",
       "      <td>158</td>\n",
       "      <td>Fmale</td>\n",
       "      <td>26.838648</td>\n",
       "      <td>0</td>\n",
       "      <td>1</td>\n",
       "      <td>0</td>\n",
       "      <td>0</td>\n",
       "      <td>0</td>\n",
       "      <td>...</td>\n",
       "      <td>4.4</td>\n",
       "      <td>142</td>\n",
       "      <td>13000</td>\n",
       "      <td>18</td>\n",
       "      <td>72</td>\n",
       "      <td>742</td>\n",
       "      <td>55</td>\n",
       "      <td>0</td>\n",
       "      <td>Severe</td>\n",
       "      <td>Normal</td>\n",
       "    </tr>\n",
       "    <tr>\n",
       "      <th>4</th>\n",
       "      <td>50</td>\n",
       "      <td>87</td>\n",
       "      <td>153</td>\n",
       "      <td>Fmale</td>\n",
       "      <td>37.165193</td>\n",
       "      <td>0</td>\n",
       "      <td>1</td>\n",
       "      <td>0</td>\n",
       "      <td>0</td>\n",
       "      <td>0</td>\n",
       "      <td>...</td>\n",
       "      <td>4.0</td>\n",
       "      <td>140</td>\n",
       "      <td>9200</td>\n",
       "      <td>55</td>\n",
       "      <td>39</td>\n",
       "      <td>274</td>\n",
       "      <td>50</td>\n",
       "      <td>0</td>\n",
       "      <td>Severe</td>\n",
       "      <td>Normal</td>\n",
       "    </tr>\n",
       "  </tbody>\n",
       "</table>\n",
       "<p>5 rows × 55 columns</p>\n",
       "</div>"
      ]
     },
     "execution_count": 160,
     "metadata": {},
     "output_type": "execute_result"
    }
   ],
   "execution_count": 160
  },
  {
   "metadata": {},
   "cell_type": "markdown",
   "source": "# Assessing Dataset",
   "id": "d1e2feb7ceedc77e"
  },
  {
   "metadata": {
    "ExecuteTime": {
     "end_time": "2024-05-29T10:27:15.946794Z",
     "start_time": "2024-05-29T10:27:15.937550Z"
    }
   },
   "cell_type": "code",
   "source": "cad_df.info()",
   "id": "e7bc8d1f901b5ae",
   "outputs": [
    {
     "name": "stdout",
     "output_type": "stream",
     "text": [
      "<class 'pandas.core.frame.DataFrame'>\n",
      "RangeIndex: 303 entries, 0 to 302\n",
      "Data columns (total 55 columns):\n",
      " #   Column                 Non-Null Count  Dtype  \n",
      "---  ------                 --------------  -----  \n",
      " 0   Age                    303 non-null    int64  \n",
      " 1   Weight                 303 non-null    int64  \n",
      " 2   Length                 303 non-null    int64  \n",
      " 3   Sex                    303 non-null    object \n",
      " 4   BMI                    303 non-null    float64\n",
      " 5   DM                     303 non-null    int64  \n",
      " 6   HTN                    303 non-null    int64  \n",
      " 7   Current Smoker         303 non-null    int64  \n",
      " 8   EX-Smoker              303 non-null    int64  \n",
      " 9   FH                     303 non-null    int64  \n",
      " 10  Obesity                303 non-null    object \n",
      " 11  CRF                    303 non-null    object \n",
      " 12  CVA                    303 non-null    object \n",
      " 13  Airway disease         303 non-null    object \n",
      " 14  Thyroid Disease        303 non-null    object \n",
      " 15  CHF                    303 non-null    object \n",
      " 16  DLP                    303 non-null    object \n",
      " 17  BP                     303 non-null    int64  \n",
      " 18  PR                     303 non-null    int64  \n",
      " 19  Edema                  303 non-null    int64  \n",
      " 20  Weak Peripheral Pulse  303 non-null    object \n",
      " 21  Lung rales             303 non-null    object \n",
      " 22  Systolic Murmur        303 non-null    object \n",
      " 23  Diastolic Murmur       303 non-null    object \n",
      " 24  Typical Chest Pain     303 non-null    int64  \n",
      " 25  Dyspnea                303 non-null    object \n",
      " 26  Function Class         303 non-null    int64  \n",
      " 27  Atypical               303 non-null    object \n",
      " 28  Nonanginal             303 non-null    object \n",
      " 29  Exertional CP          303 non-null    object \n",
      " 30  LowTH Ang              303 non-null    object \n",
      " 31  Q Wave                 303 non-null    int64  \n",
      " 32  St Elevation           303 non-null    int64  \n",
      " 33  St Depression          303 non-null    int64  \n",
      " 34  Tinversion             303 non-null    int64  \n",
      " 35  LVH                    303 non-null    object \n",
      " 36  Poor R Progression     303 non-null    object \n",
      " 37  FBS                    303 non-null    int64  \n",
      " 38  CR                     303 non-null    float64\n",
      " 39  TG                     303 non-null    int64  \n",
      " 40  LDL                    303 non-null    int64  \n",
      " 41  HDL                    303 non-null    float64\n",
      " 42  BUN                    303 non-null    int64  \n",
      " 43  ESR                    303 non-null    int64  \n",
      " 44  HB                     303 non-null    float64\n",
      " 45  K                      303 non-null    float64\n",
      " 46  Na                     303 non-null    int64  \n",
      " 47  WBC                    303 non-null    int64  \n",
      " 48  Lymph                  303 non-null    int64  \n",
      " 49  Neut                   303 non-null    int64  \n",
      " 50  PLT                    303 non-null    int64  \n",
      " 51  EF-TTE                 303 non-null    int64  \n",
      " 52  Region RWMA            303 non-null    int64  \n",
      " 53  VHD                    303 non-null    object \n",
      " 54  Cath                   303 non-null    object \n",
      "dtypes: float64(5), int64(29), object(21)\n",
      "memory usage: 130.3+ KB\n"
     ]
    }
   ],
   "execution_count": 161
  },
  {
   "metadata": {
    "ExecuteTime": {
     "end_time": "2024-05-29T10:27:16.397185Z",
     "start_time": "2024-05-29T10:27:16.381051Z"
    }
   },
   "cell_type": "code",
   "source": "cad_df.nunique()",
   "id": "a4d9602ece7c0a44",
   "outputs": [
    {
     "data": {
      "text/plain": [
       "Age                       46\n",
       "Weight                    54\n",
       "Length                    44\n",
       "Sex                        2\n",
       "BMI                      262\n",
       "DM                         2\n",
       "HTN                        2\n",
       "Current Smoker             2\n",
       "EX-Smoker                  2\n",
       "FH                         2\n",
       "Obesity                    2\n",
       "CRF                        2\n",
       "CVA                        2\n",
       "Airway disease             2\n",
       "Thyroid Disease            2\n",
       "CHF                        2\n",
       "DLP                        2\n",
       "BP                        17\n",
       "PR                        21\n",
       "Edema                      2\n",
       "Weak Peripheral Pulse      2\n",
       "Lung rales                 2\n",
       "Systolic Murmur            2\n",
       "Diastolic Murmur           2\n",
       "Typical Chest Pain         2\n",
       "Dyspnea                    2\n",
       "Function Class             4\n",
       "Atypical                   2\n",
       "Nonanginal                 2\n",
       "Exertional CP              1\n",
       "LowTH Ang                  2\n",
       "Q Wave                     2\n",
       "St Elevation               2\n",
       "St Depression              2\n",
       "Tinversion                 2\n",
       "LVH                        2\n",
       "Poor R Progression         2\n",
       "FBS                      113\n",
       "CR                        18\n",
       "TG                       147\n",
       "LDL                      110\n",
       "HDL                       47\n",
       "BUN                       33\n",
       "ESR                       58\n",
       "HB                        66\n",
       "K                         27\n",
       "Na                        25\n",
       "WBC                       78\n",
       "Lymph                     50\n",
       "Neut                      52\n",
       "PLT                      135\n",
       "EF-TTE                    11\n",
       "Region RWMA                5\n",
       "VHD                        4\n",
       "Cath                       2\n",
       "dtype: int64"
      ]
     },
     "execution_count": 162,
     "metadata": {},
     "output_type": "execute_result"
    }
   ],
   "execution_count": 162
  },
  {
   "metadata": {
    "ExecuteTime": {
     "end_time": "2024-05-29T10:27:16.838896Z",
     "start_time": "2024-05-29T10:27:16.815741Z"
    }
   },
   "cell_type": "code",
   "source": [
    "# Check for missing values\n",
    "cad_df.isna().sum()"
   ],
   "id": "92838f409d1956de",
   "outputs": [
    {
     "data": {
      "text/plain": [
       "Age                      0\n",
       "Weight                   0\n",
       "Length                   0\n",
       "Sex                      0\n",
       "BMI                      0\n",
       "DM                       0\n",
       "HTN                      0\n",
       "Current Smoker           0\n",
       "EX-Smoker                0\n",
       "FH                       0\n",
       "Obesity                  0\n",
       "CRF                      0\n",
       "CVA                      0\n",
       "Airway disease           0\n",
       "Thyroid Disease          0\n",
       "CHF                      0\n",
       "DLP                      0\n",
       "BP                       0\n",
       "PR                       0\n",
       "Edema                    0\n",
       "Weak Peripheral Pulse    0\n",
       "Lung rales               0\n",
       "Systolic Murmur          0\n",
       "Diastolic Murmur         0\n",
       "Typical Chest Pain       0\n",
       "Dyspnea                  0\n",
       "Function Class           0\n",
       "Atypical                 0\n",
       "Nonanginal               0\n",
       "Exertional CP            0\n",
       "LowTH Ang                0\n",
       "Q Wave                   0\n",
       "St Elevation             0\n",
       "St Depression            0\n",
       "Tinversion               0\n",
       "LVH                      0\n",
       "Poor R Progression       0\n",
       "FBS                      0\n",
       "CR                       0\n",
       "TG                       0\n",
       "LDL                      0\n",
       "HDL                      0\n",
       "BUN                      0\n",
       "ESR                      0\n",
       "HB                       0\n",
       "K                        0\n",
       "Na                       0\n",
       "WBC                      0\n",
       "Lymph                    0\n",
       "Neut                     0\n",
       "PLT                      0\n",
       "EF-TTE                   0\n",
       "Region RWMA              0\n",
       "VHD                      0\n",
       "Cath                     0\n",
       "dtype: int64"
      ]
     },
     "execution_count": 163,
     "metadata": {},
     "output_type": "execute_result"
    }
   ],
   "execution_count": 163
  },
  {
   "metadata": {
    "ExecuteTime": {
     "end_time": "2024-05-29T10:27:17.321059Z",
     "start_time": "2024-05-29T10:27:17.306042Z"
    }
   },
   "cell_type": "code",
   "source": [
    "# Check for duplicates\n",
    "cad_df.duplicated().sum()"
   ],
   "id": "cf58dcb00aff2c52",
   "outputs": [
    {
     "data": {
      "text/plain": [
       "0"
      ]
     },
     "execution_count": 164,
     "metadata": {},
     "output_type": "execute_result"
    }
   ],
   "execution_count": 164
  },
  {
   "metadata": {},
   "cell_type": "markdown",
   "source": "# Data Preprocessing",
   "id": "b184abbc9e7b3457"
  },
  {
   "metadata": {},
   "cell_type": "markdown",
   "source": "## Classfiying variables",
   "id": "c92295fd5a3ecfc4"
  },
  {
   "metadata": {
    "ExecuteTime": {
     "end_time": "2024-05-29T10:27:18.779232Z",
     "start_time": "2024-05-29T10:27:18.758392Z"
    }
   },
   "cell_type": "code",
   "source": [
    "# Numerical variables:\n",
    "num_cols = ['Age','Weight', 'Length','BMI', 'BP', 'PR', 'FBS', 'CR', 'TG', 'LDL', 'HDL', 'BUN', 'ESR', 'HB', 'K', 'Na', 'WBC', 'Lymph', 'Neut', 'PLT', 'EF-TTE']\n",
    "\n",
    "# Categorical variables:\n",
    "cat_cols = ['Sex', 'DM', 'HTN', 'Current Smoker', 'EX-Smoker', 'FH', 'Obesity', 'CRF', 'CVA', 'Airway disease', 'Thyroid Disease', 'CHF', 'DLP', 'Edema', 'Weak Peripheral Pulse', 'Lung rales', 'Systolic Murmur', 'Diastolic Murmur', 'Typical Chest Pain', 'Dyspnea', 'Atypical', 'Nonanginal', 'Exertional CP', 'LowTH Ang', 'Q Wave', 'St Elevation', 'St Depression', 'Tinversion', 'LVH', 'Poor R Progression', 'Cath']\n",
    "\n",
    "# Ordinal variables\n",
    "ord_cols = ['Function Class', \"Region RWMA\", \"VHD\"]"
   ],
   "id": "fe15a33caab9ba59",
   "outputs": [],
   "execution_count": 165
  },
  {
   "metadata": {
    "ExecuteTime": {
     "end_time": "2024-05-29T10:28:01.601267Z",
     "start_time": "2024-05-29T10:28:01.592526Z"
    }
   },
   "cell_type": "code",
   "source": [
    "# Check for unique values in categorical variables\n",
    "for col in cat_cols:\n",
    "    print(f'{col}: {cad_df[col].unique()}')"
   ],
   "id": "57d4832c8495d91f",
   "outputs": [
    {
     "name": "stdout",
     "output_type": "stream",
     "text": [
      "Sex: ['Male' 'Fmale']\n",
      "DM: [0 1]\n",
      "HTN: [1 0]\n",
      "Current Smoker: [1 0]\n",
      "EX-Smoker: [0 1]\n",
      "FH: [0 1]\n",
      "Obesity: ['Y' 'N']\n",
      "CRF: ['N' 'Y']\n",
      "CVA: ['N' 'Y']\n",
      "Airway disease: ['N' 'Y']\n",
      "Thyroid Disease: ['N' 'Y']\n",
      "CHF: ['N' 'Y']\n",
      "DLP: ['Y' 'N']\n",
      "Edema: [0 1]\n",
      "Weak Peripheral Pulse: ['N' 'Y']\n",
      "Lung rales: ['N' 'Y']\n",
      "Systolic Murmur: ['N' 'Y']\n",
      "Diastolic Murmur: ['N' 'Y']\n",
      "Typical Chest Pain: [0 1]\n",
      "Dyspnea: ['N' 'Y']\n",
      "Atypical: ['N' 'Y']\n",
      "Nonanginal: ['N' 'Y']\n",
      "Exertional CP: ['N']\n",
      "LowTH Ang: ['N' 'Y']\n",
      "Q Wave: [0 1]\n",
      "St Elevation: [0 1]\n",
      "St Depression: [1 0]\n",
      "Tinversion: [1 0]\n",
      "LVH: ['N' 'Y']\n",
      "Poor R Progression: ['N' 'Y']\n",
      "Cath: ['Cad' 'Normal']\n"
     ]
    }
   ],
   "execution_count": 167
  },
  {
   "metadata": {
    "ExecuteTime": {
     "end_time": "2024-05-29T10:28:19.909617Z",
     "start_time": "2024-05-29T10:28:19.894508Z"
    }
   },
   "cell_type": "code",
   "source": [
    "# Check for unique values in ordinal variables\n",
    "for col in ord_cols:\n",
    "    print(f'{col}: {cad_df[col].unique()}')"
   ],
   "id": "f01a7a1b29130fdb",
   "outputs": [
    {
     "name": "stdout",
     "output_type": "stream",
     "text": [
      "Function Class: [0 3 2 1]\n",
      "Region RWMA: [0 4 2 3 1]\n",
      "VHD: ['N' 'mild' 'Severe' 'Moderate']\n"
     ]
    }
   ],
   "execution_count": 168
  },
  {
   "metadata": {},
   "cell_type": "markdown",
   "source": "## Encoding",
   "id": "158d5313be1c9865"
  },
  {
   "metadata": {
    "ExecuteTime": {
     "end_time": "2024-05-29T10:31:51.641403Z",
     "start_time": "2024-05-29T10:31:51.636209Z"
    }
   },
   "cell_type": "code",
   "source": "label_encoder = LabelEncoder()",
   "id": "a809e6bf60a66570",
   "outputs": [],
   "execution_count": 171
  },
  {
   "metadata": {
    "ExecuteTime": {
     "end_time": "2024-05-29T10:30:22.381500Z",
     "start_time": "2024-05-29T10:30:22.243609Z"
    }
   },
   "cell_type": "code",
   "source": [
    "# Encoding categorical variables\n",
    "for col in cat_cols:\n",
    "    cad_df[col] = label_encoder.fit_transform(cad_df[col])\n",
    "cad_df[cat_cols].head()"
   ],
   "id": "559c899edaa27861",
   "outputs": [
    {
     "data": {
      "text/plain": [
       "   Sex  DM  HTN  Current Smoker  EX-Smoker  FH  Obesity  CRF  CVA  \\\n",
       "0    1   0    1               1          0   0        1    0    0   \n",
       "1    0   0    1               0          0   0        1    0    0   \n",
       "2    1   0    0               1          0   0        0    0    0   \n",
       "3    0   0    1               0          0   0        1    0    0   \n",
       "4    0   0    1               0          0   0        1    0    0   \n",
       "\n",
       "   Airway disease  ...  Nonanginal  Exertional CP  LowTH Ang  Q Wave  \\\n",
       "0               0  ...           0              0          0       0   \n",
       "1               0  ...           0              0          0       0   \n",
       "2               0  ...           0              0          0       0   \n",
       "3               0  ...           1              0          0       0   \n",
       "4               0  ...           0              0          0       0   \n",
       "\n",
       "   St Elevation  St Depression  Tinversion  LVH  Poor R Progression  Cath  \n",
       "0             0              1           1    0                   0     0  \n",
       "1             0              1           1    0                   0     0  \n",
       "2             0              0           0    0                   0     0  \n",
       "3             0              1           0    0                   0     1  \n",
       "4             0              0           0    0                   0     1  \n",
       "\n",
       "[5 rows x 31 columns]"
      ],
      "text/html": [
       "<div>\n",
       "<style scoped>\n",
       "    .dataframe tbody tr th:only-of-type {\n",
       "        vertical-align: middle;\n",
       "    }\n",
       "\n",
       "    .dataframe tbody tr th {\n",
       "        vertical-align: top;\n",
       "    }\n",
       "\n",
       "    .dataframe thead th {\n",
       "        text-align: right;\n",
       "    }\n",
       "</style>\n",
       "<table border=\"1\" class=\"dataframe\">\n",
       "  <thead>\n",
       "    <tr style=\"text-align: right;\">\n",
       "      <th></th>\n",
       "      <th>Sex</th>\n",
       "      <th>DM</th>\n",
       "      <th>HTN</th>\n",
       "      <th>Current Smoker</th>\n",
       "      <th>EX-Smoker</th>\n",
       "      <th>FH</th>\n",
       "      <th>Obesity</th>\n",
       "      <th>CRF</th>\n",
       "      <th>CVA</th>\n",
       "      <th>Airway disease</th>\n",
       "      <th>...</th>\n",
       "      <th>Nonanginal</th>\n",
       "      <th>Exertional CP</th>\n",
       "      <th>LowTH Ang</th>\n",
       "      <th>Q Wave</th>\n",
       "      <th>St Elevation</th>\n",
       "      <th>St Depression</th>\n",
       "      <th>Tinversion</th>\n",
       "      <th>LVH</th>\n",
       "      <th>Poor R Progression</th>\n",
       "      <th>Cath</th>\n",
       "    </tr>\n",
       "  </thead>\n",
       "  <tbody>\n",
       "    <tr>\n",
       "      <th>0</th>\n",
       "      <td>1</td>\n",
       "      <td>0</td>\n",
       "      <td>1</td>\n",
       "      <td>1</td>\n",
       "      <td>0</td>\n",
       "      <td>0</td>\n",
       "      <td>1</td>\n",
       "      <td>0</td>\n",
       "      <td>0</td>\n",
       "      <td>0</td>\n",
       "      <td>...</td>\n",
       "      <td>0</td>\n",
       "      <td>0</td>\n",
       "      <td>0</td>\n",
       "      <td>0</td>\n",
       "      <td>0</td>\n",
       "      <td>1</td>\n",
       "      <td>1</td>\n",
       "      <td>0</td>\n",
       "      <td>0</td>\n",
       "      <td>0</td>\n",
       "    </tr>\n",
       "    <tr>\n",
       "      <th>1</th>\n",
       "      <td>0</td>\n",
       "      <td>0</td>\n",
       "      <td>1</td>\n",
       "      <td>0</td>\n",
       "      <td>0</td>\n",
       "      <td>0</td>\n",
       "      <td>1</td>\n",
       "      <td>0</td>\n",
       "      <td>0</td>\n",
       "      <td>0</td>\n",
       "      <td>...</td>\n",
       "      <td>0</td>\n",
       "      <td>0</td>\n",
       "      <td>0</td>\n",
       "      <td>0</td>\n",
       "      <td>0</td>\n",
       "      <td>1</td>\n",
       "      <td>1</td>\n",
       "      <td>0</td>\n",
       "      <td>0</td>\n",
       "      <td>0</td>\n",
       "    </tr>\n",
       "    <tr>\n",
       "      <th>2</th>\n",
       "      <td>1</td>\n",
       "      <td>0</td>\n",
       "      <td>0</td>\n",
       "      <td>1</td>\n",
       "      <td>0</td>\n",
       "      <td>0</td>\n",
       "      <td>0</td>\n",
       "      <td>0</td>\n",
       "      <td>0</td>\n",
       "      <td>0</td>\n",
       "      <td>...</td>\n",
       "      <td>0</td>\n",
       "      <td>0</td>\n",
       "      <td>0</td>\n",
       "      <td>0</td>\n",
       "      <td>0</td>\n",
       "      <td>0</td>\n",
       "      <td>0</td>\n",
       "      <td>0</td>\n",
       "      <td>0</td>\n",
       "      <td>0</td>\n",
       "    </tr>\n",
       "    <tr>\n",
       "      <th>3</th>\n",
       "      <td>0</td>\n",
       "      <td>0</td>\n",
       "      <td>1</td>\n",
       "      <td>0</td>\n",
       "      <td>0</td>\n",
       "      <td>0</td>\n",
       "      <td>1</td>\n",
       "      <td>0</td>\n",
       "      <td>0</td>\n",
       "      <td>0</td>\n",
       "      <td>...</td>\n",
       "      <td>1</td>\n",
       "      <td>0</td>\n",
       "      <td>0</td>\n",
       "      <td>0</td>\n",
       "      <td>0</td>\n",
       "      <td>1</td>\n",
       "      <td>0</td>\n",
       "      <td>0</td>\n",
       "      <td>0</td>\n",
       "      <td>1</td>\n",
       "    </tr>\n",
       "    <tr>\n",
       "      <th>4</th>\n",
       "      <td>0</td>\n",
       "      <td>0</td>\n",
       "      <td>1</td>\n",
       "      <td>0</td>\n",
       "      <td>0</td>\n",
       "      <td>0</td>\n",
       "      <td>1</td>\n",
       "      <td>0</td>\n",
       "      <td>0</td>\n",
       "      <td>0</td>\n",
       "      <td>...</td>\n",
       "      <td>0</td>\n",
       "      <td>0</td>\n",
       "      <td>0</td>\n",
       "      <td>0</td>\n",
       "      <td>0</td>\n",
       "      <td>0</td>\n",
       "      <td>0</td>\n",
       "      <td>0</td>\n",
       "      <td>0</td>\n",
       "      <td>1</td>\n",
       "    </tr>\n",
       "  </tbody>\n",
       "</table>\n",
       "<p>5 rows × 31 columns</p>\n",
       "</div>"
      ]
     },
     "execution_count": 170,
     "metadata": {},
     "output_type": "execute_result"
    }
   ],
   "execution_count": 170
  },
  {
   "metadata": {
    "ExecuteTime": {
     "end_time": "2024-05-29T10:32:43.419947Z",
     "start_time": "2024-05-29T10:32:43.397466Z"
    }
   },
   "cell_type": "code",
   "source": [
    "# Encoding VHD\n",
    "cad_df['VHD'] = label_encoder.fit_transform(cad_df['VHD'])\n",
    "cad_df[ord_cols].head()"
   ],
   "id": "a561a5e6424e63d",
   "outputs": [
    {
     "data": {
      "text/plain": [
       "   Function Class  Region RWMA  VHD\n",
       "0               0            0    1\n",
       "1               0            4    1\n",
       "2               0            2    3\n",
       "3               3            0    2\n",
       "4               2            0    2"
      ],
      "text/html": [
       "<div>\n",
       "<style scoped>\n",
       "    .dataframe tbody tr th:only-of-type {\n",
       "        vertical-align: middle;\n",
       "    }\n",
       "\n",
       "    .dataframe tbody tr th {\n",
       "        vertical-align: top;\n",
       "    }\n",
       "\n",
       "    .dataframe thead th {\n",
       "        text-align: right;\n",
       "    }\n",
       "</style>\n",
       "<table border=\"1\" class=\"dataframe\">\n",
       "  <thead>\n",
       "    <tr style=\"text-align: right;\">\n",
       "      <th></th>\n",
       "      <th>Function Class</th>\n",
       "      <th>Region RWMA</th>\n",
       "      <th>VHD</th>\n",
       "    </tr>\n",
       "  </thead>\n",
       "  <tbody>\n",
       "    <tr>\n",
       "      <th>0</th>\n",
       "      <td>0</td>\n",
       "      <td>0</td>\n",
       "      <td>1</td>\n",
       "    </tr>\n",
       "    <tr>\n",
       "      <th>1</th>\n",
       "      <td>0</td>\n",
       "      <td>4</td>\n",
       "      <td>1</td>\n",
       "    </tr>\n",
       "    <tr>\n",
       "      <th>2</th>\n",
       "      <td>0</td>\n",
       "      <td>2</td>\n",
       "      <td>3</td>\n",
       "    </tr>\n",
       "    <tr>\n",
       "      <th>3</th>\n",
       "      <td>3</td>\n",
       "      <td>0</td>\n",
       "      <td>2</td>\n",
       "    </tr>\n",
       "    <tr>\n",
       "      <th>4</th>\n",
       "      <td>2</td>\n",
       "      <td>0</td>\n",
       "      <td>2</td>\n",
       "    </tr>\n",
       "  </tbody>\n",
       "</table>\n",
       "</div>"
      ]
     },
     "execution_count": 173,
     "metadata": {},
     "output_type": "execute_result"
    }
   ],
   "execution_count": 173
  },
  {
   "metadata": {},
   "cell_type": "markdown",
   "source": "## Numerical Variables Normalization",
   "id": "43a849dac165bec0"
  },
  {
   "metadata": {
    "ExecuteTime": {
     "end_time": "2024-05-29T10:34:33.425452Z",
     "start_time": "2024-05-29T10:34:33.408390Z"
    }
   },
   "cell_type": "code",
   "source": "scaler = StandardScaler()",
   "id": "23fb33371ad841fd",
   "outputs": [],
   "execution_count": 174
  },
  {
   "metadata": {
    "ExecuteTime": {
     "end_time": "2024-05-29T10:39:13.092406Z",
     "start_time": "2024-05-29T10:39:12.917999Z"
    }
   },
   "cell_type": "code",
   "source": [
    "# Normalizing numerical variables\n",
    "for col in num_cols:\n",
    "    cad_df[col] = scaler.fit_transform(cad_df[[col]])\n",
    "    \n",
    "cad_df[num_cols].head()\n"
   ],
   "id": "6aa365fef4f18968",
   "outputs": [
    {
     "data": {
      "text/plain": [
       "        Age    Weight    Length       BMI        BP        PR       FBS  \\\n",
       "0 -0.568446  1.351012  1.104333  0.522817 -1.034254  0.546031 -0.561315   \n",
       "1  0.780937 -0.320172 -0.828604  0.281122  0.552475  0.546031 -0.753646   \n",
       "2 -0.472061 -1.657120 -0.076906 -1.752404 -1.563163  2.793959 -0.657481   \n",
       "3  0.684552 -0.570850 -0.721218 -0.100118 -1.563163  0.546031 -0.792113   \n",
       "4 -0.857599  1.100334 -1.258145  2.423417 -1.034254  0.546031 -0.292051   \n",
       "\n",
       "         CR        TG       LDL  ...       BUN       ESR        HB         K  \\\n",
       "0 -1.347725  1.019010  1.424985  ... -1.368075 -0.783276  1.521673  1.025931   \n",
       "1 -0.210758  1.622296  0.462854  ...  1.799548  0.410930  0.464323  1.025931   \n",
       "2 -0.210758 -0.484094 -0.980342  ... -0.072229 -0.594717  0.215534  1.025931   \n",
       "3  0.547220 -0.893101 -1.404812  ...  1.799548  3.553576 -0.655225  0.370114   \n",
       "4 -0.210758  0.200994  0.151576  ... -0.216212  0.473783  0.028943 -0.504308   \n",
       "\n",
       "         Na       WBC     Lymph      Neut       PLT    EF-TTE  \n",
       "0  0.000868 -0.772712  0.662975 -0.801571  0.650977  0.310686  \n",
       "1  3.946579  0.057248  0.562534 -0.506461 -0.930681 -0.811339  \n",
       "2 -0.525227 -0.067246  0.562534 -0.014609  0.140233 -0.811339  \n",
       "3  0.263916  2.256644 -1.446280  1.165833  8.575744  0.871699  \n",
       "4 -0.262179  0.679719  2.270027 -2.080384  0.865160  0.310686  \n",
       "\n",
       "[5 rows x 21 columns]"
      ],
      "text/html": [
       "<div>\n",
       "<style scoped>\n",
       "    .dataframe tbody tr th:only-of-type {\n",
       "        vertical-align: middle;\n",
       "    }\n",
       "\n",
       "    .dataframe tbody tr th {\n",
       "        vertical-align: top;\n",
       "    }\n",
       "\n",
       "    .dataframe thead th {\n",
       "        text-align: right;\n",
       "    }\n",
       "</style>\n",
       "<table border=\"1\" class=\"dataframe\">\n",
       "  <thead>\n",
       "    <tr style=\"text-align: right;\">\n",
       "      <th></th>\n",
       "      <th>Age</th>\n",
       "      <th>Weight</th>\n",
       "      <th>Length</th>\n",
       "      <th>BMI</th>\n",
       "      <th>BP</th>\n",
       "      <th>PR</th>\n",
       "      <th>FBS</th>\n",
       "      <th>CR</th>\n",
       "      <th>TG</th>\n",
       "      <th>LDL</th>\n",
       "      <th>...</th>\n",
       "      <th>BUN</th>\n",
       "      <th>ESR</th>\n",
       "      <th>HB</th>\n",
       "      <th>K</th>\n",
       "      <th>Na</th>\n",
       "      <th>WBC</th>\n",
       "      <th>Lymph</th>\n",
       "      <th>Neut</th>\n",
       "      <th>PLT</th>\n",
       "      <th>EF-TTE</th>\n",
       "    </tr>\n",
       "  </thead>\n",
       "  <tbody>\n",
       "    <tr>\n",
       "      <th>0</th>\n",
       "      <td>-0.568446</td>\n",
       "      <td>1.351012</td>\n",
       "      <td>1.104333</td>\n",
       "      <td>0.522817</td>\n",
       "      <td>-1.034254</td>\n",
       "      <td>0.546031</td>\n",
       "      <td>-0.561315</td>\n",
       "      <td>-1.347725</td>\n",
       "      <td>1.019010</td>\n",
       "      <td>1.424985</td>\n",
       "      <td>...</td>\n",
       "      <td>-1.368075</td>\n",
       "      <td>-0.783276</td>\n",
       "      <td>1.521673</td>\n",
       "      <td>1.025931</td>\n",
       "      <td>0.000868</td>\n",
       "      <td>-0.772712</td>\n",
       "      <td>0.662975</td>\n",
       "      <td>-0.801571</td>\n",
       "      <td>0.650977</td>\n",
       "      <td>0.310686</td>\n",
       "    </tr>\n",
       "    <tr>\n",
       "      <th>1</th>\n",
       "      <td>0.780937</td>\n",
       "      <td>-0.320172</td>\n",
       "      <td>-0.828604</td>\n",
       "      <td>0.281122</td>\n",
       "      <td>0.552475</td>\n",
       "      <td>0.546031</td>\n",
       "      <td>-0.753646</td>\n",
       "      <td>-0.210758</td>\n",
       "      <td>1.622296</td>\n",
       "      <td>0.462854</td>\n",
       "      <td>...</td>\n",
       "      <td>1.799548</td>\n",
       "      <td>0.410930</td>\n",
       "      <td>0.464323</td>\n",
       "      <td>1.025931</td>\n",
       "      <td>3.946579</td>\n",
       "      <td>0.057248</td>\n",
       "      <td>0.562534</td>\n",
       "      <td>-0.506461</td>\n",
       "      <td>-0.930681</td>\n",
       "      <td>-0.811339</td>\n",
       "    </tr>\n",
       "    <tr>\n",
       "      <th>2</th>\n",
       "      <td>-0.472061</td>\n",
       "      <td>-1.657120</td>\n",
       "      <td>-0.076906</td>\n",
       "      <td>-1.752404</td>\n",
       "      <td>-1.563163</td>\n",
       "      <td>2.793959</td>\n",
       "      <td>-0.657481</td>\n",
       "      <td>-0.210758</td>\n",
       "      <td>-0.484094</td>\n",
       "      <td>-0.980342</td>\n",
       "      <td>...</td>\n",
       "      <td>-0.072229</td>\n",
       "      <td>-0.594717</td>\n",
       "      <td>0.215534</td>\n",
       "      <td>1.025931</td>\n",
       "      <td>-0.525227</td>\n",
       "      <td>-0.067246</td>\n",
       "      <td>0.562534</td>\n",
       "      <td>-0.014609</td>\n",
       "      <td>0.140233</td>\n",
       "      <td>-0.811339</td>\n",
       "    </tr>\n",
       "    <tr>\n",
       "      <th>3</th>\n",
       "      <td>0.684552</td>\n",
       "      <td>-0.570850</td>\n",
       "      <td>-0.721218</td>\n",
       "      <td>-0.100118</td>\n",
       "      <td>-1.563163</td>\n",
       "      <td>0.546031</td>\n",
       "      <td>-0.792113</td>\n",
       "      <td>0.547220</td>\n",
       "      <td>-0.893101</td>\n",
       "      <td>-1.404812</td>\n",
       "      <td>...</td>\n",
       "      <td>1.799548</td>\n",
       "      <td>3.553576</td>\n",
       "      <td>-0.655225</td>\n",
       "      <td>0.370114</td>\n",
       "      <td>0.263916</td>\n",
       "      <td>2.256644</td>\n",
       "      <td>-1.446280</td>\n",
       "      <td>1.165833</td>\n",
       "      <td>8.575744</td>\n",
       "      <td>0.871699</td>\n",
       "    </tr>\n",
       "    <tr>\n",
       "      <th>4</th>\n",
       "      <td>-0.857599</td>\n",
       "      <td>1.100334</td>\n",
       "      <td>-1.258145</td>\n",
       "      <td>2.423417</td>\n",
       "      <td>-1.034254</td>\n",
       "      <td>0.546031</td>\n",
       "      <td>-0.292051</td>\n",
       "      <td>-0.210758</td>\n",
       "      <td>0.200994</td>\n",
       "      <td>0.151576</td>\n",
       "      <td>...</td>\n",
       "      <td>-0.216212</td>\n",
       "      <td>0.473783</td>\n",
       "      <td>0.028943</td>\n",
       "      <td>-0.504308</td>\n",
       "      <td>-0.262179</td>\n",
       "      <td>0.679719</td>\n",
       "      <td>2.270027</td>\n",
       "      <td>-2.080384</td>\n",
       "      <td>0.865160</td>\n",
       "      <td>0.310686</td>\n",
       "    </tr>\n",
       "  </tbody>\n",
       "</table>\n",
       "<p>5 rows × 21 columns</p>\n",
       "</div>"
      ]
     },
     "execution_count": 176,
     "metadata": {},
     "output_type": "execute_result"
    }
   ],
   "execution_count": 176
  },
  {
   "metadata": {
    "ExecuteTime": {
     "end_time": "2024-05-29T10:39:54.645063Z",
     "start_time": "2024-05-29T10:39:54.620274Z"
    }
   },
   "cell_type": "code",
   "source": "cad_df.head()",
   "id": "10b29153a88166a3",
   "outputs": [
    {
     "data": {
      "text/plain": [
       "        Age    Weight    Length  Sex       BMI  DM  HTN  Current Smoker  \\\n",
       "0 -0.568446  1.351012  1.104333    1  0.522817   0    1               1   \n",
       "1  0.780937 -0.320172 -0.828604    0  0.281122   0    1               0   \n",
       "2 -0.472061 -1.657120 -0.076906    1 -1.752404   0    0               1   \n",
       "3  0.684552 -0.570850 -0.721218    0 -0.100118   0    1               0   \n",
       "4 -0.857599  1.100334 -1.258145    0  2.423417   0    1               0   \n",
       "\n",
       "   EX-Smoker  FH  ...         K        Na       WBC     Lymph      Neut  \\\n",
       "0          0   0  ...  1.025931  0.000868 -0.772712  0.662975 -0.801571   \n",
       "1          0   0  ...  1.025931  3.946579  0.057248  0.562534 -0.506461   \n",
       "2          0   0  ...  1.025931 -0.525227 -0.067246  0.562534 -0.014609   \n",
       "3          0   0  ...  0.370114  0.263916  2.256644 -1.446280  1.165833   \n",
       "4          0   0  ... -0.504308 -0.262179  0.679719  2.270027 -2.080384   \n",
       "\n",
       "        PLT    EF-TTE  Region RWMA  VHD  Cath  \n",
       "0  0.650977  0.310686            0    1     0  \n",
       "1 -0.930681 -0.811339            4    1     0  \n",
       "2  0.140233 -0.811339            2    3     0  \n",
       "3  8.575744  0.871699            0    2     1  \n",
       "4  0.865160  0.310686            0    2     1  \n",
       "\n",
       "[5 rows x 55 columns]"
      ],
      "text/html": [
       "<div>\n",
       "<style scoped>\n",
       "    .dataframe tbody tr th:only-of-type {\n",
       "        vertical-align: middle;\n",
       "    }\n",
       "\n",
       "    .dataframe tbody tr th {\n",
       "        vertical-align: top;\n",
       "    }\n",
       "\n",
       "    .dataframe thead th {\n",
       "        text-align: right;\n",
       "    }\n",
       "</style>\n",
       "<table border=\"1\" class=\"dataframe\">\n",
       "  <thead>\n",
       "    <tr style=\"text-align: right;\">\n",
       "      <th></th>\n",
       "      <th>Age</th>\n",
       "      <th>Weight</th>\n",
       "      <th>Length</th>\n",
       "      <th>Sex</th>\n",
       "      <th>BMI</th>\n",
       "      <th>DM</th>\n",
       "      <th>HTN</th>\n",
       "      <th>Current Smoker</th>\n",
       "      <th>EX-Smoker</th>\n",
       "      <th>FH</th>\n",
       "      <th>...</th>\n",
       "      <th>K</th>\n",
       "      <th>Na</th>\n",
       "      <th>WBC</th>\n",
       "      <th>Lymph</th>\n",
       "      <th>Neut</th>\n",
       "      <th>PLT</th>\n",
       "      <th>EF-TTE</th>\n",
       "      <th>Region RWMA</th>\n",
       "      <th>VHD</th>\n",
       "      <th>Cath</th>\n",
       "    </tr>\n",
       "  </thead>\n",
       "  <tbody>\n",
       "    <tr>\n",
       "      <th>0</th>\n",
       "      <td>-0.568446</td>\n",
       "      <td>1.351012</td>\n",
       "      <td>1.104333</td>\n",
       "      <td>1</td>\n",
       "      <td>0.522817</td>\n",
       "      <td>0</td>\n",
       "      <td>1</td>\n",
       "      <td>1</td>\n",
       "      <td>0</td>\n",
       "      <td>0</td>\n",
       "      <td>...</td>\n",
       "      <td>1.025931</td>\n",
       "      <td>0.000868</td>\n",
       "      <td>-0.772712</td>\n",
       "      <td>0.662975</td>\n",
       "      <td>-0.801571</td>\n",
       "      <td>0.650977</td>\n",
       "      <td>0.310686</td>\n",
       "      <td>0</td>\n",
       "      <td>1</td>\n",
       "      <td>0</td>\n",
       "    </tr>\n",
       "    <tr>\n",
       "      <th>1</th>\n",
       "      <td>0.780937</td>\n",
       "      <td>-0.320172</td>\n",
       "      <td>-0.828604</td>\n",
       "      <td>0</td>\n",
       "      <td>0.281122</td>\n",
       "      <td>0</td>\n",
       "      <td>1</td>\n",
       "      <td>0</td>\n",
       "      <td>0</td>\n",
       "      <td>0</td>\n",
       "      <td>...</td>\n",
       "      <td>1.025931</td>\n",
       "      <td>3.946579</td>\n",
       "      <td>0.057248</td>\n",
       "      <td>0.562534</td>\n",
       "      <td>-0.506461</td>\n",
       "      <td>-0.930681</td>\n",
       "      <td>-0.811339</td>\n",
       "      <td>4</td>\n",
       "      <td>1</td>\n",
       "      <td>0</td>\n",
       "    </tr>\n",
       "    <tr>\n",
       "      <th>2</th>\n",
       "      <td>-0.472061</td>\n",
       "      <td>-1.657120</td>\n",
       "      <td>-0.076906</td>\n",
       "      <td>1</td>\n",
       "      <td>-1.752404</td>\n",
       "      <td>0</td>\n",
       "      <td>0</td>\n",
       "      <td>1</td>\n",
       "      <td>0</td>\n",
       "      <td>0</td>\n",
       "      <td>...</td>\n",
       "      <td>1.025931</td>\n",
       "      <td>-0.525227</td>\n",
       "      <td>-0.067246</td>\n",
       "      <td>0.562534</td>\n",
       "      <td>-0.014609</td>\n",
       "      <td>0.140233</td>\n",
       "      <td>-0.811339</td>\n",
       "      <td>2</td>\n",
       "      <td>3</td>\n",
       "      <td>0</td>\n",
       "    </tr>\n",
       "    <tr>\n",
       "      <th>3</th>\n",
       "      <td>0.684552</td>\n",
       "      <td>-0.570850</td>\n",
       "      <td>-0.721218</td>\n",
       "      <td>0</td>\n",
       "      <td>-0.100118</td>\n",
       "      <td>0</td>\n",
       "      <td>1</td>\n",
       "      <td>0</td>\n",
       "      <td>0</td>\n",
       "      <td>0</td>\n",
       "      <td>...</td>\n",
       "      <td>0.370114</td>\n",
       "      <td>0.263916</td>\n",
       "      <td>2.256644</td>\n",
       "      <td>-1.446280</td>\n",
       "      <td>1.165833</td>\n",
       "      <td>8.575744</td>\n",
       "      <td>0.871699</td>\n",
       "      <td>0</td>\n",
       "      <td>2</td>\n",
       "      <td>1</td>\n",
       "    </tr>\n",
       "    <tr>\n",
       "      <th>4</th>\n",
       "      <td>-0.857599</td>\n",
       "      <td>1.100334</td>\n",
       "      <td>-1.258145</td>\n",
       "      <td>0</td>\n",
       "      <td>2.423417</td>\n",
       "      <td>0</td>\n",
       "      <td>1</td>\n",
       "      <td>0</td>\n",
       "      <td>0</td>\n",
       "      <td>0</td>\n",
       "      <td>...</td>\n",
       "      <td>-0.504308</td>\n",
       "      <td>-0.262179</td>\n",
       "      <td>0.679719</td>\n",
       "      <td>2.270027</td>\n",
       "      <td>-2.080384</td>\n",
       "      <td>0.865160</td>\n",
       "      <td>0.310686</td>\n",
       "      <td>0</td>\n",
       "      <td>2</td>\n",
       "      <td>1</td>\n",
       "    </tr>\n",
       "  </tbody>\n",
       "</table>\n",
       "<p>5 rows × 55 columns</p>\n",
       "</div>"
      ]
     },
     "execution_count": 177,
     "metadata": {},
     "output_type": "execute_result"
    }
   ],
   "execution_count": 177
  },
  {
   "metadata": {
    "ExecuteTime": {
     "end_time": "2024-05-29T10:40:31.172860Z",
     "start_time": "2024-05-29T10:40:31.154523Z"
    }
   },
   "cell_type": "code",
   "source": "preprocessed_df = cad_df.copy()",
   "id": "8d903a77b42e70d2",
   "outputs": [],
   "execution_count": 178
  },
  {
   "metadata": {
    "ExecuteTime": {
     "end_time": "2024-05-29T10:57:50.505361Z",
     "start_time": "2024-05-29T10:57:50.497491Z"
    }
   },
   "cell_type": "code",
   "source": "preprocessed_df.columns",
   "id": "5b028bd7717e0474",
   "outputs": [
    {
     "data": {
      "text/plain": [
       "Index(['Age', 'Weight', 'Length', 'Sex', 'BMI', 'DM', 'HTN', 'Current Smoker',\n",
       "       'EX-Smoker', 'FH', 'Obesity', 'CRF', 'CVA', 'Airway disease',\n",
       "       'Thyroid Disease', 'CHF', 'DLP', 'BP', 'PR', 'Edema',\n",
       "       'Weak Peripheral Pulse', 'Lung rales', 'Systolic Murmur',\n",
       "       'Diastolic Murmur', 'Typical Chest Pain', 'Dyspnea', 'Function Class',\n",
       "       'Atypical', 'Nonanginal', 'Exertional CP', 'LowTH Ang', 'Q Wave',\n",
       "       'St Elevation', 'St Depression', 'Tinversion', 'LVH',\n",
       "       'Poor R Progression', 'FBS', 'CR', 'TG', 'LDL', 'HDL', 'BUN', 'ESR',\n",
       "       'HB', 'K', 'Na', 'WBC', 'Lymph', 'Neut', 'PLT', 'EF-TTE', 'Region RWMA',\n",
       "       'VHD', 'Cath'],\n",
       "      dtype='object')"
      ]
     },
     "execution_count": 182,
     "metadata": {},
     "output_type": "execute_result"
    }
   ],
   "execution_count": 182
  },
  {
   "metadata": {},
   "cell_type": "markdown",
   "source": "## Train, Validation, Test Split",
   "id": "83720e117fe65a98"
  },
  {
   "metadata": {
    "ExecuteTime": {
     "end_time": "2024-05-29T11:13:45.317702Z",
     "start_time": "2024-05-29T11:13:45.299626Z"
    }
   },
   "cell_type": "code",
   "source": [
    "X = preprocessed_df.drop('Cath', axis=1)\n",
    "y = preprocessed_df['Cath']"
   ],
   "id": "e85155e9d0136915",
   "outputs": [],
   "execution_count": 194
  },
  {
   "metadata": {},
   "cell_type": "markdown",
   "source": "Train Test Split",
   "id": "986a2d265fc46536"
  },
  {
   "metadata": {
    "ExecuteTime": {
     "end_time": "2024-05-29T11:13:46.293455Z",
     "start_time": "2024-05-29T11:13:46.283630Z"
    }
   },
   "cell_type": "code",
   "source": "X_train, X_test, y_train, y_test = train_test_split(X, y, test_size=0.2, stratify=y, random_state=42)",
   "id": "82f95c68c8f9d83d",
   "outputs": [],
   "execution_count": 195
  },
  {
   "metadata": {
    "ExecuteTime": {
     "end_time": "2024-05-29T11:13:46.633205Z",
     "start_time": "2024-05-29T11:13:46.623501Z"
    }
   },
   "cell_type": "code",
   "source": [
    "print(\"Training Data Shape: \", X_train.shape, y_train.shape)\n",
    "print(\"Testing Data Shape: \", X_test.shape, y_test.shape)"
   ],
   "id": "cce1cc1f858365f9",
   "outputs": [
    {
     "name": "stdout",
     "output_type": "stream",
     "text": [
      "Training Data Shape:  (242, 54) (242,)\n",
      "Testing Data Shape:  (61, 54) (61,)\n"
     ]
    }
   ],
   "execution_count": 196
  },
  {
   "metadata": {},
   "cell_type": "markdown",
   "source": "Train Validation Split",
   "id": "7b79da7e0c2ccb83"
  },
  {
   "metadata": {
    "ExecuteTime": {
     "end_time": "2024-05-29T11:13:47.240036Z",
     "start_time": "2024-05-29T11:13:47.234642Z"
    }
   },
   "cell_type": "code",
   "source": "X_train, X_val, y_train, y_val = train_test_split(X_train, y_train, test_size=0.2, stratify=y_train, random_state=42)",
   "id": "effc02550a53026d",
   "outputs": [],
   "execution_count": 197
  },
  {
   "metadata": {
    "ExecuteTime": {
     "end_time": "2024-05-29T11:13:47.474909Z",
     "start_time": "2024-05-29T11:13:47.460675Z"
    }
   },
   "cell_type": "code",
   "source": [
    "print(\"Training Data Shape: \", X_train.shape, y_train.shape)\n",
    "print(\"Validation Data Shape: \", X_val.shape, y_val.shape)"
   ],
   "id": "4d3bb58dc3885aa7",
   "outputs": [
    {
     "name": "stdout",
     "output_type": "stream",
     "text": [
      "Training Data Shape:  (193, 54) (193,)\n",
      "Validation Data Shape:  (49, 54) (49,)\n"
     ]
    }
   ],
   "execution_count": 198
  },
  {
   "metadata": {
    "ExecuteTime": {
     "end_time": "2024-05-29T11:13:47.675856Z",
     "start_time": "2024-05-29T11:13:47.668069Z"
    }
   },
   "cell_type": "code",
   "source": [
    "# Check the distribution of the target variable\n",
    "y_train.value_counts()"
   ],
   "id": "d1017977a0a6e70b",
   "outputs": [
    {
     "data": {
      "text/plain": [
       "Cath\n",
       "0    138\n",
       "1     55\n",
       "Name: count, dtype: int64"
      ]
     },
     "execution_count": 199,
     "metadata": {},
     "output_type": "execute_result"
    }
   ],
   "execution_count": 199
  },
  {
   "metadata": {},
   "cell_type": "markdown",
   "source": "## Oversampling the minority class",
   "id": "22aecb1b0eb501d"
  },
  {
   "metadata": {
    "ExecuteTime": {
     "end_time": "2024-05-29T11:13:48.142404Z",
     "start_time": "2024-05-29T11:13:48.057648Z"
    }
   },
   "cell_type": "code",
   "source": [
    "from imblearn.over_sampling import SMOTENC\n",
    "\n",
    "cat_ord_cols = cat_cols + ord_cols\n",
    "cat_ord_cols.remove('Cath')\n",
    "\n",
    "smote = SMOTENC(categorical_features=cat_ord_cols, random_state=42)\n",
    "print(\"Original Train Data: \", X_train.shape, y_train.shape)\n",
    "\n",
    "X_train, y_train = smote.fit_resample(X_train, y_train)\n",
    "print(\"Resampled Train Data: \", X_train.shape, y_train.shape)"
   ],
   "id": "6555961ad673d839",
   "outputs": [
    {
     "name": "stdout",
     "output_type": "stream",
     "text": [
      "Original Train Data:  (193, 54) (193,)\n",
      "Resampled Train Data:  (276, 54) (276,)\n"
     ]
    }
   ],
   "execution_count": 200
  },
  {
   "metadata": {
    "ExecuteTime": {
     "end_time": "2024-05-29T11:13:48.969681Z",
     "start_time": "2024-05-29T11:13:48.948746Z"
    }
   },
   "cell_type": "code",
   "source": [
    "# Check the distribution of the target variable\n",
    "y_train.value_counts()"
   ],
   "id": "fe6245f6023f6208",
   "outputs": [
    {
     "data": {
      "text/plain": [
       "Cath\n",
       "1    138\n",
       "0    138\n",
       "Name: count, dtype: int64"
      ]
     },
     "execution_count": 201,
     "metadata": {},
     "output_type": "execute_result"
    }
   ],
   "execution_count": 201
  },
  {
   "metadata": {},
   "cell_type": "markdown",
   "source": "# ML Model Building",
   "id": "4099c0f68e46e499"
  },
  {
   "metadata": {
    "ExecuteTime": {
     "end_time": "2024-05-29T11:44:14.102040Z",
     "start_time": "2024-05-29T11:44:13.964844Z"
    }
   },
   "cell_type": "code",
   "source": [
    "model = tf.keras.models.Sequential([\n",
    "    tf.keras.layers.Dense(64, activation='relu', input_shape=(X_train.shape[1],)),\n",
    "    tf.keras.layers.Dropout(0.1),\n",
    "    tf.keras.layers.Dense(32, activation='relu'),\n",
    "    tf.keras.layers.Dense(1, activation='sigmoid')\n",
    "])\n",
    "\n",
    "model.compile(optimizer='adam', loss='binary_crossentropy', metrics=['accuracy'])"
   ],
   "id": "51179c6504493620",
   "outputs": [
    {
     "name": "stderr",
     "output_type": "stream",
     "text": [
      "D:\\PycharmProjects\\Image Captioning Project\\.venv\\Lib\\site-packages\\keras\\src\\layers\\core\\dense.py:87: UserWarning: Do not pass an `input_shape`/`input_dim` argument to a layer. When using Sequential models, prefer using an `Input(shape)` object as the first layer in the model instead.\n",
      "  super().__init__(activity_regularizer=activity_regularizer, **kwargs)\n"
     ]
    }
   ],
   "execution_count": 269
  },
  {
   "metadata": {
    "ExecuteTime": {
     "end_time": "2024-05-29T11:44:14.339766Z",
     "start_time": "2024-05-29T11:44:14.324214Z"
    }
   },
   "cell_type": "code",
   "source": "callback = tf.keras.callbacks.EarlyStopping(monitor='val_accuracy', patience=4, restore_best_weights=True)",
   "id": "898fc11f3370a942",
   "outputs": [],
   "execution_count": 270
  },
  {
   "metadata": {},
   "cell_type": "markdown",
   "source": "## Training the Model",
   "id": "ed6055d370531361"
  },
  {
   "metadata": {
    "ExecuteTime": {
     "end_time": "2024-05-29T11:44:18.087325Z",
     "start_time": "2024-05-29T11:44:14.722241Z"
    }
   },
   "cell_type": "code",
   "source": "history = model.fit(X_train, y_train, epochs=30, batch_size=32, validation_data=(X_val, y_val), verbose=1)",
   "id": "539ed20b3f0283b5",
   "outputs": [
    {
     "name": "stdout",
     "output_type": "stream",
     "text": [
      "Epoch 1/30\n",
      "\u001B[1m9/9\u001B[0m \u001B[32m━━━━━━━━━━━━━━━━━━━━\u001B[0m\u001B[37m\u001B[0m \u001B[1m1s\u001B[0m 20ms/step - accuracy: 0.4342 - loss: 0.7178 - val_accuracy: 0.6122 - val_loss: 0.6229\n",
      "Epoch 2/30\n",
      "\u001B[1m9/9\u001B[0m \u001B[32m━━━━━━━━━━━━━━━━━━━━\u001B[0m\u001B[37m\u001B[0m \u001B[1m0s\u001B[0m 6ms/step - accuracy: 0.6854 - loss: 0.6162 - val_accuracy: 0.7755 - val_loss: 0.5500\n",
      "Epoch 3/30\n",
      "\u001B[1m9/9\u001B[0m \u001B[32m━━━━━━━━━━━━━━━━━━━━\u001B[0m\u001B[37m\u001B[0m \u001B[1m0s\u001B[0m 6ms/step - accuracy: 0.7758 - loss: 0.5313 - val_accuracy: 0.8367 - val_loss: 0.4938\n",
      "Epoch 4/30\n",
      "\u001B[1m9/9\u001B[0m \u001B[32m━━━━━━━━━━━━━━━━━━━━\u001B[0m\u001B[37m\u001B[0m \u001B[1m0s\u001B[0m 6ms/step - accuracy: 0.8778 - loss: 0.4495 - val_accuracy: 0.8571 - val_loss: 0.4448\n",
      "Epoch 5/30\n",
      "\u001B[1m9/9\u001B[0m \u001B[32m━━━━━━━━━━━━━━━━━━━━\u001B[0m\u001B[37m\u001B[0m \u001B[1m0s\u001B[0m 4ms/step - accuracy: 0.8780 - loss: 0.4145 - val_accuracy: 0.8980 - val_loss: 0.4032\n",
      "Epoch 6/30\n",
      "\u001B[1m9/9\u001B[0m \u001B[32m━━━━━━━━━━━━━━━━━━━━\u001B[0m\u001B[37m\u001B[0m \u001B[1m0s\u001B[0m 4ms/step - accuracy: 0.8884 - loss: 0.3472 - val_accuracy: 0.9184 - val_loss: 0.3611\n",
      "Epoch 7/30\n",
      "\u001B[1m9/9\u001B[0m \u001B[32m━━━━━━━━━━━━━━━━━━━━\u001B[0m\u001B[37m\u001B[0m \u001B[1m0s\u001B[0m 4ms/step - accuracy: 0.9027 - loss: 0.2985 - val_accuracy: 0.9184 - val_loss: 0.3348\n",
      "Epoch 8/30\n",
      "\u001B[1m9/9\u001B[0m \u001B[32m━━━━━━━━━━━━━━━━━━━━\u001B[0m\u001B[37m\u001B[0m \u001B[1m0s\u001B[0m 4ms/step - accuracy: 0.9361 - loss: 0.2502 - val_accuracy: 0.9184 - val_loss: 0.3151\n",
      "Epoch 9/30\n",
      "\u001B[1m9/9\u001B[0m \u001B[32m━━━━━━━━━━━━━━━━━━━━\u001B[0m\u001B[37m\u001B[0m \u001B[1m0s\u001B[0m 4ms/step - accuracy: 0.9460 - loss: 0.2131 - val_accuracy: 0.9184 - val_loss: 0.3053\n",
      "Epoch 10/30\n",
      "\u001B[1m9/9\u001B[0m \u001B[32m━━━━━━━━━━━━━━━━━━━━\u001B[0m\u001B[37m\u001B[0m \u001B[1m0s\u001B[0m 6ms/step - accuracy: 0.9631 - loss: 0.1989 - val_accuracy: 0.9388 - val_loss: 0.2954\n",
      "Epoch 11/30\n",
      "\u001B[1m9/9\u001B[0m \u001B[32m━━━━━━━━━━━━━━━━━━━━\u001B[0m\u001B[37m\u001B[0m \u001B[1m0s\u001B[0m 4ms/step - accuracy: 0.9360 - loss: 0.1851 - val_accuracy: 0.9184 - val_loss: 0.2975\n",
      "Epoch 12/30\n",
      "\u001B[1m9/9\u001B[0m \u001B[32m━━━━━━━━━━━━━━━━━━━━\u001B[0m\u001B[37m\u001B[0m \u001B[1m0s\u001B[0m 4ms/step - accuracy: 0.9498 - loss: 0.1539 - val_accuracy: 0.9184 - val_loss: 0.2991\n",
      "Epoch 13/30\n",
      "\u001B[1m9/9\u001B[0m \u001B[32m━━━━━━━━━━━━━━━━━━━━\u001B[0m\u001B[37m\u001B[0m \u001B[1m0s\u001B[0m 4ms/step - accuracy: 0.9475 - loss: 0.1620 - val_accuracy: 0.9184 - val_loss: 0.2928\n",
      "Epoch 14/30\n",
      "\u001B[1m9/9\u001B[0m \u001B[32m━━━━━━━━━━━━━━━━━━━━\u001B[0m\u001B[37m\u001B[0m \u001B[1m0s\u001B[0m 6ms/step - accuracy: 0.9727 - loss: 0.1193 - val_accuracy: 0.9184 - val_loss: 0.3003\n",
      "Epoch 15/30\n",
      "\u001B[1m9/9\u001B[0m \u001B[32m━━━━━━━━━━━━━━━━━━━━\u001B[0m\u001B[37m\u001B[0m \u001B[1m0s\u001B[0m 6ms/step - accuracy: 0.9775 - loss: 0.0957 - val_accuracy: 0.9184 - val_loss: 0.3102\n",
      "Epoch 16/30\n",
      "\u001B[1m9/9\u001B[0m \u001B[32m━━━━━━━━━━━━━━━━━━━━\u001B[0m\u001B[37m\u001B[0m \u001B[1m0s\u001B[0m 4ms/step - accuracy: 0.9677 - loss: 0.1030 - val_accuracy: 0.9184 - val_loss: 0.3100\n",
      "Epoch 17/30\n",
      "\u001B[1m9/9\u001B[0m \u001B[32m━━━━━━━━━━━━━━━━━━━━\u001B[0m\u001B[37m\u001B[0m \u001B[1m0s\u001B[0m 4ms/step - accuracy: 0.9781 - loss: 0.1097 - val_accuracy: 0.9184 - val_loss: 0.3091\n",
      "Epoch 18/30\n",
      "\u001B[1m9/9\u001B[0m \u001B[32m━━━━━━━━━━━━━━━━━━━━\u001B[0m\u001B[37m\u001B[0m \u001B[1m0s\u001B[0m 6ms/step - accuracy: 0.9675 - loss: 0.1091 - val_accuracy: 0.9184 - val_loss: 0.3162\n",
      "Epoch 19/30\n",
      "\u001B[1m9/9\u001B[0m \u001B[32m━━━━━━━━━━━━━━━━━━━━\u001B[0m\u001B[37m\u001B[0m \u001B[1m0s\u001B[0m 6ms/step - accuracy: 0.9872 - loss: 0.0767 - val_accuracy: 0.9184 - val_loss: 0.3287\n",
      "Epoch 20/30\n",
      "\u001B[1m9/9\u001B[0m \u001B[32m━━━━━━━━━━━━━━━━━━━━\u001B[0m\u001B[37m\u001B[0m \u001B[1m0s\u001B[0m 4ms/step - accuracy: 0.9683 - loss: 0.0831 - val_accuracy: 0.8980 - val_loss: 0.3338\n",
      "Epoch 21/30\n",
      "\u001B[1m9/9\u001B[0m \u001B[32m━━━━━━━━━━━━━━━━━━━━\u001B[0m\u001B[37m\u001B[0m \u001B[1m0s\u001B[0m 6ms/step - accuracy: 0.9746 - loss: 0.0795 - val_accuracy: 0.8980 - val_loss: 0.3421\n",
      "Epoch 22/30\n",
      "\u001B[1m9/9\u001B[0m \u001B[32m━━━━━━━━━━━━━━━━━━━━\u001B[0m\u001B[37m\u001B[0m \u001B[1m0s\u001B[0m 4ms/step - accuracy: 0.9873 - loss: 0.0658 - val_accuracy: 0.8980 - val_loss: 0.3382\n",
      "Epoch 23/30\n",
      "\u001B[1m9/9\u001B[0m \u001B[32m━━━━━━━━━━━━━━━━━━━━\u001B[0m\u001B[37m\u001B[0m \u001B[1m0s\u001B[0m 4ms/step - accuracy: 0.9855 - loss: 0.0539 - val_accuracy: 0.8980 - val_loss: 0.3509\n",
      "Epoch 24/30\n",
      "\u001B[1m9/9\u001B[0m \u001B[32m━━━━━━━━━━━━━━━━━━━━\u001B[0m\u001B[37m\u001B[0m \u001B[1m0s\u001B[0m 6ms/step - accuracy: 0.9804 - loss: 0.0551 - val_accuracy: 0.8980 - val_loss: 0.3609\n",
      "Epoch 25/30\n",
      "\u001B[1m9/9\u001B[0m \u001B[32m━━━━━━━━━━━━━━━━━━━━\u001B[0m\u001B[37m\u001B[0m \u001B[1m0s\u001B[0m 6ms/step - accuracy: 0.9818 - loss: 0.0470 - val_accuracy: 0.8980 - val_loss: 0.3649\n",
      "Epoch 26/30\n",
      "\u001B[1m9/9\u001B[0m \u001B[32m━━━━━━━━━━━━━━━━━━━━\u001B[0m\u001B[37m\u001B[0m \u001B[1m0s\u001B[0m 6ms/step - accuracy: 0.9938 - loss: 0.0364 - val_accuracy: 0.8980 - val_loss: 0.3660\n",
      "Epoch 27/30\n",
      "\u001B[1m9/9\u001B[0m \u001B[32m━━━━━━━━━━━━━━━━━━━━\u001B[0m\u001B[37m\u001B[0m \u001B[1m0s\u001B[0m 5ms/step - accuracy: 0.9893 - loss: 0.0347 - val_accuracy: 0.8980 - val_loss: 0.3731\n",
      "Epoch 28/30\n",
      "\u001B[1m9/9\u001B[0m \u001B[32m━━━━━━━━━━━━━━━━━━━━\u001B[0m\u001B[37m\u001B[0m \u001B[1m0s\u001B[0m 5ms/step - accuracy: 0.9903 - loss: 0.0449 - val_accuracy: 0.8980 - val_loss: 0.3942\n",
      "Epoch 29/30\n",
      "\u001B[1m9/9\u001B[0m \u001B[32m━━━━━━━━━━━━━━━━━━━━\u001B[0m\u001B[37m\u001B[0m \u001B[1m0s\u001B[0m 6ms/step - accuracy: 0.9887 - loss: 0.0343 - val_accuracy: 0.8980 - val_loss: 0.3998\n",
      "Epoch 30/30\n",
      "\u001B[1m9/9\u001B[0m \u001B[32m━━━━━━━━━━━━━━━━━━━━\u001B[0m\u001B[37m\u001B[0m \u001B[1m0s\u001B[0m 5ms/step - accuracy: 0.9973 - loss: 0.0331 - val_accuracy: 0.8980 - val_loss: 0.4047\n"
     ]
    }
   ],
   "execution_count": 271
  },
  {
   "metadata": {
    "ExecuteTime": {
     "end_time": "2024-05-29T11:44:43.604571Z",
     "start_time": "2024-05-29T11:44:43.533569Z"
    }
   },
   "cell_type": "code",
   "source": "model.evaluate(X_test, y_test)",
   "id": "cde4760d24d6ab50",
   "outputs": [
    {
     "name": "stdout",
     "output_type": "stream",
     "text": [
      "\u001B[1m2/2\u001B[0m \u001B[32m━━━━━━━━━━━━━━━━━━━━\u001B[0m\u001B[37m\u001B[0m \u001B[1m0s\u001B[0m 16ms/step - accuracy: 0.8282 - loss: 0.6276\n"
     ]
    },
    {
     "data": {
      "text/plain": [
       "[0.6289498805999756, 0.8360655903816223]"
      ]
     },
     "execution_count": 273,
     "metadata": {},
     "output_type": "execute_result"
    }
   ],
   "execution_count": 273
  },
  {
   "metadata": {},
   "cell_type": "markdown",
   "source": "",
   "id": "f5e1a4e0d871738f"
  },
  {
   "metadata": {},
   "cell_type": "markdown",
   "source": "# Model Evaluation",
   "id": "f46f73825e9f4245"
  },
  {
   "metadata": {
    "ExecuteTime": {
     "end_time": "2024-05-29T11:44:46.348841Z",
     "start_time": "2024-05-29T11:44:46.157138Z"
    }
   },
   "cell_type": "code",
   "source": [
    "# Plotting the training and validation accuracy\n",
    "plt.plot(history.history['accuracy'])\n",
    "plt.plot(history.history['val_accuracy'])\n",
    "plt.title('Model Accuracy')\n",
    "plt.ylabel('Accuracy')\n",
    "plt.xlabel('Epoch')\n",
    "plt.legend(['Train', 'Validation'], loc='upper left')\n",
    "plt.show()"
   ],
   "id": "42cc0934eda6a1bd",
   "outputs": [
    {
     "data": {
      "text/plain": [
       "<Figure size 640x480 with 1 Axes>"
      ],
      "image/png": "[encoded data removed]"
     },
     "metadata": {},
     "output_type": "display_data"
    }
   ],
   "execution_count": 274
  },
  {
   "metadata": {
    "ExecuteTime": {
     "end_time": "2024-05-29T12:07:43.873568Z",
     "start_time": "2024-05-29T12:07:43.687413Z"
    }
   },
   "cell_type": "code",
   "source": [
    "# Plotting the training and validation loss\n",
    "plt.plot(history.history['loss'])\n",
    "plt.plot(history.history['val_loss'])\n",
    "plt.title('Model Loss')\n",
    "plt.ylabel('Loss')\n",
    "plt.xlabel('Epoch')\n",
    "plt.legend(['Train', 'Validation'], loc='upper left')\n",
    "plt.show()"
   ],
   "id": "3129743366f30108",
   "outputs": [
    {
     "data": {
      "text/plain": [
       "<Figure size 640x480 with 1 Axes>"
      ],
      "image/png": "[encoded data removed]"
     },
     "metadata": {},
     "output_type": "display_data"
    }
   ],
   "execution_count": 297
  },
  {
   "metadata": {},
   "cell_type": "markdown",
   "source": "## Test Data Evaluation",
   "id": "42971a0730c944b1"
  },
  {
   "metadata": {
    "ExecuteTime": {
     "end_time": "2024-05-29T12:08:14.444092Z",
     "start_time": "2024-05-29T12:08:14.432018Z"
    }
   },
   "cell_type": "code",
   "source": [
    "def get_clf_eval(y_test, pred, pred_proba):\n",
    "\n",
    "    confusion = confusion_matrix(y_test, pred)\n",
    "    accuracy = accuracy_score(y_test, pred)\n",
    "    precision = precision_score(y_test, pred)\n",
    "    recall = recall_score(y_test, pred)\n",
    "    f1 = f1_score(y_test, pred)\n",
    "    roc_auc = roc_auc_score(y_test, pred_proba)\n",
    "\n",
    "    plt.figure(figsize=(15, 7))\n",
    "    sns.heatmap(confusion, annot=True, fmt='d', cmap='Blues')\n",
    "    plt.xlabel('Predicted')\n",
    "    plt.ylabel('Actual')\n",
    "    plt.show()\n",
    "\n",
    "    eval_metrics = {'accuracy': accuracy, 'precision': precision, 'recall': recall, 'f1': f1, 'roc_auc': roc_auc}\n",
    "\n",
    "    return eval_metrics"
   ],
   "id": "e43095a3338ce916",
   "outputs": [],
   "execution_count": 301
  },
  {
   "metadata": {
    "ExecuteTime": {
     "end_time": "2024-05-29T12:09:09.637956Z",
     "start_time": "2024-05-29T12:09:09.496840Z"
    }
   },
   "cell_type": "code",
   "source": [
    "pred = model.predict(X_test)\n",
    "pred = (pred > 0.5).astype(int)\n",
    "pred_proba = model.predict(X_test)"
   ],
   "id": "439988c4863765bf",
   "outputs": [
    {
     "name": "stdout",
     "output_type": "stream",
     "text": [
      "\u001B[1m2/2\u001B[0m \u001B[32m━━━━━━━━━━━━━━━━━━━━\u001B[0m\u001B[37m\u001B[0m \u001B[1m0s\u001B[0m 0s/step  \n",
      "\u001B[1m2/2\u001B[0m \u001B[32m━━━━━━━━━━━━━━━━━━━━\u001B[0m\u001B[37m\u001B[0m \u001B[1m0s\u001B[0m 16ms/step\n"
     ]
    }
   ],
   "execution_count": 304
  },
  {
   "metadata": {
    "ExecuteTime": {
     "end_time": "2024-05-29T12:09:33.841011Z",
     "start_time": "2024-05-29T12:09:33.637697Z"
    }
   },
   "cell_type": "code",
   "source": "metrics_test = get_clf_eval(y_test, pred, pred_proba)",
   "id": "c348a2415602cabb",
   "outputs": [
    {
     "data": {
      "text/plain": [
       "<Figure size 1500x700 with 2 Axes>"
      ],
      "image/png": "[encoded data removed]"
     },
     "metadata": {},
     "output_type": "display_data"
    }
   ],
   "execution_count": 305
  }
 ],
 "metadata": {
  "kernelspec": {
   "display_name": "Python 3",
   "language": "python",
   "name": "python3"
  },
  "language_info": {
   "codemirror_mode": {
    "name": "ipython",
    "version": 2
   },
   "file_extension": ".py",
   "mimetype": "text/x-python",
   "name": "python",
   "nbconvert_exporter": "python",
   "pygments_lexer": "ipython2",
   "version": "2.7.6"
  }
 },
 "nbformat": 4,
 "nbformat_minor": 5
}
